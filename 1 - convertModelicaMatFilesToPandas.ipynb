{
 "cells": [
  {
   "cell_type": "markdown",
   "metadata": {},
   "source": [
    "# Overview\n",
    "\n",
    "This file is for data wrangling of the output data from engineering software into Python Pandas dataframes to then conduct machine learning. \n",
    "\n",
    "\n",
    "# Modelica Mat files\n",
    "\n",
    "Mat files are created from a physics-based simulation of a commercial building HVAC system. The goal is to convert the Mat files into a python pandas dataframe.\n",
    "\n",
    "First import relevant libraries. "
   ]
  },
  {
   "cell_type": "code",
   "execution_count": 3,
   "metadata": {
    "collapsed": true
   },
   "outputs": [],
   "source": [
    "import pandas as pd\n",
    "import numpy as np\n",
    "import matplotlib.pyplot as plt\n",
    "from buildingspy.io.outputfile import Reader # For I/O on the Mat file\n",
    "% matplotlib inline"
   ]
  },
  {
   "cell_type": "markdown",
   "metadata": {},
   "source": [
    "# Small mat files can be directly converted into pandas dataframes"
   ]
  },
  {
   "cell_type": "code",
   "execution_count": 1,
   "metadata": {
    "collapsed": true
   },
   "outputs": [],
   "source": [
    "'''\n",
    "Opens a dymola mat file to extract out selected variables, which is returned as a dataframe. \n",
    "Missing data is indicated by NaN\n",
    "\n",
    "Output: dataframe\n",
    "Input:\n",
    "    matfile_name        name of a dymola mat file\n",
    "    variables           array-like of strings with variables\n",
    "'''\n",
    "def Mat2Pickles(matfile_name, variables):\n",
    "    dymolareader = Reader(matfile_name, \"dymola\")\n",
    "    # Get the indices\n",
    "    timeset = set()\n",
    "    for variable in variables:\n",
    "        time, value = dymolareader.values(variable)\n",
    "        timeset.update(time)\n",
    "    # Create the dataframe\n",
    "    df = pd.DataFrame(index=sorted(timeset), columns=variables)\n",
    "    for variable in variables:\n",
    "        time, value = dymolareader.values(variable)\n",
    "        df.loc[time, variable] = value\n",
    "    return df"
   ]
  },
  {
   "cell_type": "markdown",
   "metadata": {},
   "source": [
    "# Large Mat files cannot be loaded into memory within Python\n",
    "\n",
    "\n",
    "An alternative approach is to use a utility\n",
    "\n",
    "## Create a list of the variable names that are to be exported"
   ]
  },
  {
   "cell_type": "code",
   "execution_count": null,
   "metadata": {
    "collapsed": true
   },
   "outputs": [],
   "source": [
    "# Open the map of names\n",
    "var_info = np.genfromtxt('../Data/ReferenceFiles/molecularfoundry_map.csv', delimiter=',', dtype=str)\n",
    "# The second column contains the dymola names of the variables\n",
    "variable_names = var_info[:, 1]\n",
    "# Remove empty entries\n",
    "variable_names = variable_names[variable_names != '']"
   ]
  },
  {
   "cell_type": "markdown",
   "metadata": {},
   "source": [
    "## Create a command line command\n",
    "\n",
    "This command exports the desired variables from the Modelica .mat file into a .csv or .mat file\n",
    "\n",
    "The command string calls the function alist.exe, which can be found in the /Dymola program folder."
   ]
  },
  {
   "cell_type": "code",
   "execution_count": 4,
   "metadata": {
    "collapsed": true
   },
   "outputs": [],
   "source": [
    "'''\n",
    "The command is a string that can be created using createlistcmd()\n",
    "Output:\n",
    "    cmd_string     string to copy into the command line \n",
    "'''\n",
    "def createalistcmd(variable_names, input_file_name, output_file_name):\n",
    "    cmd_string = 'alist'\n",
    "    for variable in variable_names:\n",
    "        cmd_string += ' -e ' + variable\n",
    "    cmd_string += ' ' + input_file_name + ' ' + output_file_name\n",
    "    return cmd_string"
   ]
  },
  {
   "cell_type": "code",
   "execution_count": 25,
   "metadata": {
    "collapsed": false
   },
   "outputs": [
    {
     "data": {
      "text/plain": [
       "'alist -e GP_1.y -e GP2.y -e GP_20.y -e ARU_1.dp2 -e ARU_1.TEvaEnt -e ARU_1.TEvaLvg -e VOut3.V_flow -e ARU_1.TSet -e ARU_1.on -e ARU_1.P -e ARU_1.dp1 -e ARU_1.TConEnt -e ARU_1.TConLvg -e VOut7.V_flow -e ARU_2.dp2 -e ARU_2.TEvaEnt -e ARU_2.TEvaLvg -e VOut2.V_flow -e ARU_2.TSet -e ARU_2.on -e ARU_2.P -e ARU_2.dp1 -e ARU_2.TConEnt -e ARU_2.TConLvg -e VOut6.V_flow -e ARU_3.dp2 -e ARU_3.TEvaEnt -e ARU_3.TEvaLvg -e VOut1.V_flow -e ARU_3.TSet -e ARU_3.on -e ARU_3.P -e ARU_3.dp1 -e ARU_3.TConEnt -e ARU_3.TConLvg -e VOut5.V_flow -e TCHWARU5.T -e TCHWARU4.T -e GP4.N_actual -e secondaryPumpControl.PumpControl -e GP4.P -e TCHWARU6.T -e TCHWARU7.T -e VOut4.V_flow -e senRelPre.port_a.p -e senRelPre.port_b.p -e GP_5.y -e GP6.y -e GP_21.y -e CT01.y -e CT01.TLvg -e CT01.TAppAct -e CT01.PFan -e CT02.y -e CT02.TLvg -e CT02.TAppAct -e CT02.PFan -e weaBus.relHum -e weaBus.TWetBul GP21_efficiencyx75percent.mat GP21_efficiencyx75percent.csv'"
      ]
     },
     "execution_count": 25,
     "metadata": {},
     "output_type": "execute_result"
    }
   ],
   "source": [
    "createalistcmd(variable_names, 'GP21_efficiencyx75percent.mat', 'GP21_efficiencyx75percent.csv')"
   ]
  },
  {
   "cell_type": "markdown",
   "metadata": {},
   "source": [
    "## Run the command string\n",
    "\n",
    "Ensure the following are in the same folder:\n",
    "\n",
    "    alist.exe which can be found in Programs/Dymola/bin\n",
    "    \n",
    "    the dymola.mat file\n",
    "\n",
    "In the command line, type the alist.exe command created in the following step\n",
    "\n",
    "After the command finishes executing, the desired .mat or .csv file will be created\n",
    "\n",
    "# Import CSV files in Python"
   ]
  },
  {
   "cell_type": "code",
   "execution_count": 28,
   "metadata": {
    "collapsed": true
   },
   "outputs": [],
   "source": [
    "data = pd.read_csv('test.csv', delimiter=',', header=0, index_col=0)"
   ]
  },
  {
   "cell_type": "code",
   "execution_count": 29,
   "metadata": {
    "collapsed": false
   },
   "outputs": [
    {
     "data": {
      "text/html": [
       "<div>\n",
       "<table border=\"1\" class=\"dataframe\">\n",
       "  <thead>\n",
       "    <tr style=\"text-align: right;\">\n",
       "      <th></th>\n",
       "      <th>GP_1.y</th>\n",
       "      <th>GP2.y</th>\n",
       "      <th>GP_20.y</th>\n",
       "      <th>ARU_1.dp2</th>\n",
       "      <th>ARU_1.TEvaEnt</th>\n",
       "      <th>ARU_1.TEvaLvg</th>\n",
       "      <th>VOut3.V_flow</th>\n",
       "      <th>ARU_1.TSet</th>\n",
       "      <th>ARU_1.on</th>\n",
       "      <th>ARU_1.P</th>\n",
       "      <th>...</th>\n",
       "      <th>CT01.y</th>\n",
       "      <th>CT01.TLvg</th>\n",
       "      <th>CT01.TAppAct</th>\n",
       "      <th>CT01.PFan</th>\n",
       "      <th>CT02.y</th>\n",
       "      <th>CT02.TLvg</th>\n",
       "      <th>CT02.TAppAct</th>\n",
       "      <th>CT02.PFan</th>\n",
       "      <th>weaBus.relHum</th>\n",
       "      <th>weaBus.TDryBul</th>\n",
       "    </tr>\n",
       "    <tr>\n",
       "      <th>Time</th>\n",
       "      <th></th>\n",
       "      <th></th>\n",
       "      <th></th>\n",
       "      <th></th>\n",
       "      <th></th>\n",
       "      <th></th>\n",
       "      <th></th>\n",
       "      <th></th>\n",
       "      <th></th>\n",
       "      <th></th>\n",
       "      <th></th>\n",
       "      <th></th>\n",
       "      <th></th>\n",
       "      <th></th>\n",
       "      <th></th>\n",
       "      <th></th>\n",
       "      <th></th>\n",
       "      <th></th>\n",
       "      <th></th>\n",
       "      <th></th>\n",
       "      <th></th>\n",
       "    </tr>\n",
       "  </thead>\n",
       "  <tbody>\n",
       "    <tr>\n",
       "      <th>0.000000e+00</th>\n",
       "      <td>0.03</td>\n",
       "      <td>0.03</td>\n",
       "      <td>0.03</td>\n",
       "      <td>0.000000e+00</td>\n",
       "      <td>293.15</td>\n",
       "      <td>278.15</td>\n",
       "      <td>7.395380e-17</td>\n",
       "      <td>280.35</td>\n",
       "      <td>0</td>\n",
       "      <td>0.0</td>\n",
       "      <td>...</td>\n",
       "      <td>1.0</td>\n",
       "      <td>293.150</td>\n",
       "      <td>-0.614284</td>\n",
       "      <td>169987.0</td>\n",
       "      <td>0.0</td>\n",
       "      <td>293.15</td>\n",
       "      <td>11.8195</td>\n",
       "      <td>0.0</td>\n",
       "      <td>0.9</td>\n",
       "      <td>280.35</td>\n",
       "    </tr>\n",
       "    <tr>\n",
       "      <th>1.751380e-09</th>\n",
       "      <td>0.03</td>\n",
       "      <td>0.03</td>\n",
       "      <td>0.03</td>\n",
       "      <td>6.984920e-10</td>\n",
       "      <td>293.15</td>\n",
       "      <td>278.15</td>\n",
       "      <td>1.216280e-14</td>\n",
       "      <td>280.35</td>\n",
       "      <td>0</td>\n",
       "      <td>0.0</td>\n",
       "      <td>...</td>\n",
       "      <td>1.0</td>\n",
       "      <td>293.150</td>\n",
       "      <td>-0.614284</td>\n",
       "      <td>169987.0</td>\n",
       "      <td>0.0</td>\n",
       "      <td>293.15</td>\n",
       "      <td>11.8195</td>\n",
       "      <td>0.0</td>\n",
       "      <td>0.9</td>\n",
       "      <td>280.35</td>\n",
       "    </tr>\n",
       "    <tr>\n",
       "      <th>1.751380e-09</th>\n",
       "      <td>0.03</td>\n",
       "      <td>0.03</td>\n",
       "      <td>0.03</td>\n",
       "      <td>6.984920e-10</td>\n",
       "      <td>293.15</td>\n",
       "      <td>278.15</td>\n",
       "      <td>1.242100e-14</td>\n",
       "      <td>280.35</td>\n",
       "      <td>0</td>\n",
       "      <td>0.0</td>\n",
       "      <td>...</td>\n",
       "      <td>1.0</td>\n",
       "      <td>293.150</td>\n",
       "      <td>-0.614284</td>\n",
       "      <td>169987.0</td>\n",
       "      <td>0.0</td>\n",
       "      <td>293.15</td>\n",
       "      <td>11.8195</td>\n",
       "      <td>0.0</td>\n",
       "      <td>0.9</td>\n",
       "      <td>280.35</td>\n",
       "    </tr>\n",
       "    <tr>\n",
       "      <th>1.000000e+00</th>\n",
       "      <td>0.03</td>\n",
       "      <td>0.03</td>\n",
       "      <td>0.03</td>\n",
       "      <td>1.285440e+00</td>\n",
       "      <td>293.15</td>\n",
       "      <td>278.15</td>\n",
       "      <td>2.242720e-05</td>\n",
       "      <td>280.35</td>\n",
       "      <td>0</td>\n",
       "      <td>0.0</td>\n",
       "      <td>...</td>\n",
       "      <td>1.0</td>\n",
       "      <td>293.148</td>\n",
       "      <td>-0.593598</td>\n",
       "      <td>169987.0</td>\n",
       "      <td>0.0</td>\n",
       "      <td>293.15</td>\n",
       "      <td>11.8221</td>\n",
       "      <td>0.0</td>\n",
       "      <td>0.9</td>\n",
       "      <td>280.35</td>\n",
       "    </tr>\n",
       "    <tr>\n",
       "      <th>1.000000e+00</th>\n",
       "      <td>0.03</td>\n",
       "      <td>0.03</td>\n",
       "      <td>0.03</td>\n",
       "      <td>1.285440e+00</td>\n",
       "      <td>293.15</td>\n",
       "      <td>278.15</td>\n",
       "      <td>2.242720e-05</td>\n",
       "      <td>280.35</td>\n",
       "      <td>0</td>\n",
       "      <td>0.0</td>\n",
       "      <td>...</td>\n",
       "      <td>1.0</td>\n",
       "      <td>293.148</td>\n",
       "      <td>-0.593598</td>\n",
       "      <td>169987.0</td>\n",
       "      <td>0.0</td>\n",
       "      <td>293.15</td>\n",
       "      <td>11.8221</td>\n",
       "      <td>0.0</td>\n",
       "      <td>0.9</td>\n",
       "      <td>280.35</td>\n",
       "    </tr>\n",
       "  </tbody>\n",
       "</table>\n",
       "<p>5 rows × 59 columns</p>\n",
       "</div>"
      ],
      "text/plain": [
       "              GP_1.y  GP2.y  GP_20.y     ARU_1.dp2  ARU_1.TEvaEnt  \\\n",
       "Time                                                                \n",
       "0.000000e+00    0.03   0.03     0.03  0.000000e+00         293.15   \n",
       "1.751380e-09    0.03   0.03     0.03  6.984920e-10         293.15   \n",
       "1.751380e-09    0.03   0.03     0.03  6.984920e-10         293.15   \n",
       "1.000000e+00    0.03   0.03     0.03  1.285440e+00         293.15   \n",
       "1.000000e+00    0.03   0.03     0.03  1.285440e+00         293.15   \n",
       "\n",
       "              ARU_1.TEvaLvg  VOut3.V_flow  ARU_1.TSet  ARU_1.on  ARU_1.P  \\\n",
       "Time                                                                       \n",
       "0.000000e+00         278.15  7.395380e-17      280.35         0      0.0   \n",
       "1.751380e-09         278.15  1.216280e-14      280.35         0      0.0   \n",
       "1.751380e-09         278.15  1.242100e-14      280.35         0      0.0   \n",
       "1.000000e+00         278.15  2.242720e-05      280.35         0      0.0   \n",
       "1.000000e+00         278.15  2.242720e-05      280.35         0      0.0   \n",
       "\n",
       "                   ...        CT01.y  CT01.TLvg  CT01.TAppAct  CT01.PFan  \\\n",
       "Time               ...                                                     \n",
       "0.000000e+00       ...           1.0    293.150     -0.614284   169987.0   \n",
       "1.751380e-09       ...           1.0    293.150     -0.614284   169987.0   \n",
       "1.751380e-09       ...           1.0    293.150     -0.614284   169987.0   \n",
       "1.000000e+00       ...           1.0    293.148     -0.593598   169987.0   \n",
       "1.000000e+00       ...           1.0    293.148     -0.593598   169987.0   \n",
       "\n",
       "              CT02.y  CT02.TLvg  CT02.TAppAct  CT02.PFan  weaBus.relHum  \\\n",
       "Time                                                                      \n",
       "0.000000e+00     0.0     293.15       11.8195        0.0            0.9   \n",
       "1.751380e-09     0.0     293.15       11.8195        0.0            0.9   \n",
       "1.751380e-09     0.0     293.15       11.8195        0.0            0.9   \n",
       "1.000000e+00     0.0     293.15       11.8221        0.0            0.9   \n",
       "1.000000e+00     0.0     293.15       11.8221        0.0            0.9   \n",
       "\n",
       "              weaBus.TDryBul  \n",
       "Time                          \n",
       "0.000000e+00          280.35  \n",
       "1.751380e-09          280.35  \n",
       "1.751380e-09          280.35  \n",
       "1.000000e+00          280.35  \n",
       "1.000000e+00          280.35  \n",
       "\n",
       "[5 rows x 59 columns]"
      ]
     },
     "execution_count": 29,
     "metadata": {},
     "output_type": "execute_result"
    }
   ],
   "source": [
    "data.head()"
   ]
  },
  {
   "cell_type": "markdown",
   "metadata": {},
   "source": [
    "# Calculate the variances to remove features that are close to zero"
   ]
  },
  {
   "cell_type": "code",
   "execution_count": 10,
   "metadata": {
    "collapsed": false
   },
   "outputs": [],
   "source": [
    "variances = data.var(axis=0)"
   ]
  },
  {
   "cell_type": "code",
   "execution_count": 11,
   "metadata": {
    "collapsed": false
   },
   "outputs": [
    {
     "data": {
      "text/plain": [
       "VOut3.V_flow    0.000203\n",
       "VOut7.V_flow    0.000540\n",
       "VOut2.V_flow    0.000095\n",
       "VOut6.V_flow    0.000440\n",
       "VOut1.V_flow    0.000033\n",
       "VOut5.V_flow    0.000070\n",
       "VOut4.V_flow    0.000069\n",
       "dtype: float64"
      ]
     },
     "execution_count": 11,
     "metadata": {},
     "output_type": "execute_result"
    }
   ],
   "source": [
    "variances[variances<0.01]"
   ]
  },
  {
   "cell_type": "markdown",
   "metadata": {
    "collapsed": true
   },
   "source": [
    "# Check for duplicates and inconsistent times"
   ]
  },
  {
   "cell_type": "code",
   "execution_count": 67,
   "metadata": {
    "collapsed": false
   },
   "outputs": [],
   "source": [
    "'''\n",
    "One method is to remove the duplicates from the data\n",
    "'''\n",
    "def removeDuplicates(df):\n",
    "    unique_indices = np.unique(df.index, return_index=True)[1]\n",
    "    return df.iloc[unique_indices]"
   ]
  },
  {
   "cell_type": "code",
   "execution_count": 3,
   "metadata": {
    "collapsed": false
   },
   "outputs": [],
   "source": [
    "'''\n",
    "Replaces duplicate indices with the average\n",
    "'''\n",
    "def replaceDuplicatesWithAverage(orig_df):\n",
    "    # Keep only the 5 minute samples\n",
    "    df = orig_df[orig_df.index % 300 == 0]\n",
    "    # Check for identical timestamps and take the average\n",
    "    df.sort_index(inplace=True)\n",
    "    start_of_dupes = 0\n",
    "    for i in range(1, len(df) + 1):\n",
    "        if i == len(df) or df.index[i] != df.index[i - 1]:\n",
    "            if i - start_of_dupes > 1:\n",
    "                average = df.iloc[start_of_dupes:i].mean()\n",
    "                df.iloc[start_of_dupes] = average\n",
    "            start_of_dupes = i\n",
    "    df[\"___INDEX___\"] = df.index\n",
    "    df.drop_duplicates(subset=\"___INDEX___\", keep=\"first\", inplace=True)\n",
    "    df.drop(\"___INDEX___\", axis=1, inplace=True)\n",
    "    return df"
   ]
  },
  {
   "cell_type": "markdown",
   "metadata": {},
   "source": [
    "# Save the cleaned data as pickle files"
   ]
  },
  {
   "cell_type": "code",
   "execution_count": null,
   "metadata": {
    "collapsed": true
   },
   "outputs": [],
   "source": [
    "# Convert all the csv files in SimulationResults-smaller-csv to cleaned pandas arrays stored as pickle files\n",
    "import os\n",
    "for file in os.listdir(\"../SimulationResults-smaller-csv\"):\n",
    "    if file.endswith(\".csv\"):\n",
    "        temp_pandas = pd.read_csv('../SimulationResults-smaller-csv/' + file, delimiter=',', header=0, index_col=0)\n",
    "        temp_pandas  = replaceDuplicatesWithAverage(temp_pandas)\n",
    "        temp_pandas['SecondsOfYear'] = temp_pandas.index # add the seconds of the year as a feature\n",
    "        newfilename = file.split('.')[0] # remove the .csv extension\n",
    "        temp_pandas.loc[3900:31539900].to_pickle(newfilename + '.p') # Modify the following"
   ]
  }
 ],
 "metadata": {
  "kernelspec": {
   "display_name": "Python 3",
   "language": "python",
   "name": "python3"
  },
  "language_info": {
   "codemirror_mode": {
    "name": "ipython",
    "version": 3
   },
   "file_extension": ".py",
   "mimetype": "text/x-python",
   "name": "python",
   "nbconvert_exporter": "python",
   "pygments_lexer": "ipython3",
   "version": "3.5.1"
  },
  "nav_menu": {},
  "toc": {
   "navigate_menu": true,
   "number_sections": true,
   "sideBar": true,
   "threshold": 6,
   "toc_cell": false,
   "toc_section_display": "block",
   "toc_window_display": false
  }
 },
 "nbformat": 4,
 "nbformat_minor": 0
}
