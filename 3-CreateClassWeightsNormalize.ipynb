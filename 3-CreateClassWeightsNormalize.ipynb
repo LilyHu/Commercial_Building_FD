{
 "cells": [
  {
   "cell_type": "markdown",
   "metadata": {},
   "source": [
    "# Overview\n",
    "\n",
    "Create "
   ]
  },
  {
   "cell_type": "code",
   "execution_count": 1,
   "metadata": {
    "collapsed": true
   },
   "outputs": [],
   "source": [
    "import pandas as pd\n",
    "import numpy as np\n",
    "import matplotlib.pyplot as plt\n",
    "% matplotlib inline\n",
    "import os"
   ]
  },
  {
   "cell_type": "markdown",
   "metadata": {},
   "source": [
    "# Create useable weight series"
   ]
  },
  {
   "cell_type": "code",
   "execution_count": 46,
   "metadata": {
    "collapsed": false
   },
   "outputs": [],
   "source": [
    "'''\n",
    "Assumes weight at end_time is 1 and weight at start_time is 1/2\n",
    "Input:\n",
    "    index_value       integer\n",
    "    start_time        integer\n",
    "    end_time          integer\n",
    "Return:\n",
    "    float\n",
    "'''\n",
    "def CalculateTimeWeight(index_value, start_time, end_time):\n",
    "    return np.exp(np.log(0.5)/(float(start_time - end_time))*(index_value-end_time))"
   ]
  },
  {
   "cell_type": "code",
   "execution_count": 67,
   "metadata": {
    "collapsed": true
   },
   "outputs": [],
   "source": [
    "aaa = pd.read_pickle('../Data/MolecularFoundryPickleFiles_3-cleaned-units-converted-engfeatures/ARU1_max75min1.p')"
   ]
  },
  {
   "cell_type": "code",
   "execution_count": 54,
   "metadata": {
    "collapsed": false
   },
   "outputs": [],
   "source": [
    "weights = pd.Series(index=aaa.index)\n",
    "for index in weights.index:\n",
    "    weights[index] = CalculateTimeWeight(index, weights.index.min(), weights.index.max())"
   ]
  },
  {
   "cell_type": "code",
   "execution_count": 56,
   "metadata": {
    "collapsed": true
   },
   "outputs": [],
   "source": [
    "weights.to_pickle('timeweights.p')"
   ]
  },
  {
   "cell_type": "markdown",
   "metadata": {},
   "source": [
    "# Class Labels\n",
    "\n",
    "In the terminal, copy the /labels folder from step 2 or so"
   ]
  },
  {
   "cell_type": "code",
   "execution_count": 3,
   "metadata": {
    "collapsed": false
   },
   "outputs": [],
   "source": [
    "# Get list of files\n",
    "filenames = os.listdir('../Data/MolecularFoundryPickleFiles_4-cleaned-units-converted-engfeatures-lagstdv/labels')"
   ]
  },
  {
   "cell_type": "code",
   "execution_count": 4,
   "metadata": {
    "collapsed": false
   },
   "outputs": [],
   "source": [
    "aaa = pd.read_pickle('../Data/MolecularFoundryPickleFiles_4-cleaned-units-converted-engfeatures-lagstdv/labels/ARU1_max75min1-label.p')"
   ]
  },
  {
   "cell_type": "code",
   "execution_count": 61,
   "metadata": {
    "collapsed": false
   },
   "outputs": [
    {
     "data": {
      "text/plain": [
       "['ARU1_max75min1-label.p',\n",
       " 'ARU2_max75min1-label.p',\n",
       " 'ARU3_max75min1-label.p',\n",
       " 'coolingtower1_efficiency75percent-label.p',\n",
       " 'coolingtower2_efficiency75percent-label.p',\n",
       " 'GP1_efficiencyx75percent-label.p',\n",
       " 'GP20_efficiencyx75percent-label.p',\n",
       " 'GP21_efficiencyx75percent-label.p',\n",
       " 'GP2_efficiencyx75percent-label.p',\n",
       " 'GP4_efficiencyx75percent-label.p',\n",
       " 'GP5_efficiencyx75percent-label.p',\n",
       " 'GP6_efficiencyx75percent-label.p',\n",
       " 'no_faults-label.p']"
      ]
     },
     "execution_count": 61,
     "metadata": {},
     "output_type": "execute_result"
    }
   ],
   "source": [
    "filenames"
   ]
  },
  {
   "cell_type": "markdown",
   "metadata": {},
   "source": [
    "# Create Data Sets for Time Series Cross Validation"
   ]
  },
  {
   "cell_type": "code",
   "execution_count": 9,
   "metadata": {
    "collapsed": false
   },
   "outputs": [],
   "source": [
    "aaa = pd.read_pickle('../Data/MolecularFoundryPickleFiles_4-cleaned-units-converted-engfeatures-lagstdv/ARU1_max75min1.p')"
   ]
  },
  {
   "cell_type": "code",
   "execution_count": 5,
   "metadata": {
    "collapsed": true
   },
   "outputs": [],
   "source": [
    "# Create the output directory\n",
    "if not os.path.exists('../Data/MolecularFoundryPickleFiles_5-cleaned-units-engfeatures-lagstdv-cv'):\n",
    "    os.makedirs('../Data/MolecularFoundryPickleFiles_5-cleaned-units-engfeatures-lagstdv-cv')"
   ]
  },
  {
   "cell_type": "code",
   "execution_count": 4,
   "metadata": {
    "collapsed": true
   },
   "outputs": [],
   "source": [
    "def weighByClass(temp_train):\n",
    "    # Calculate the class weight\n",
    "    num_in_class = np.bincount(temp_train['__label__'])\n",
    "    for class_i in range(0, len(num_in_class)):\n",
    "        if num_in_class[class_i] == 0:\n",
    "            num_in_class[class_i] = 1\n",
    "    num_samples = len(temp_train)\n",
    "    num_classes = 2\n",
    "    classweight = {}\n",
    "    classweight[0] = num_samples/float(num_classes * num_in_class[0])\n",
    "    classweight[1] = num_samples/float(num_classes * num_in_class[1])    \n",
    "    temp_train.loc[temp_train['__label__']==0, '__weight__'] = temp_train[temp_train['__label__']==0]['__weight__'] * classweight[0]\n",
    "    temp_train.loc[temp_train['__label__']==1, '__weight__'] = temp_train[temp_train['__label__']==1]['__weight__'] * classweight[1]\n"
   ]
  },
  {
   "cell_type": "code",
   "execution_count": 5,
   "metadata": {
    "collapsed": false,
    "scrolled": true
   },
   "outputs": [
    {
     "name": "stdout",
     "output_type": "stream",
     "text": [
      "ARU1_max75min1.p\n",
      "GP20_efficiencyx75percent.p\n",
      "ARU2_max75min1.p\n",
      "ARU3_max75min1.p\n",
      "coolingtower1_efficiency75percent.p\n",
      "coolingtower2_efficiency75percent.p\n",
      "GP21_efficiencyx75percent.p\n",
      "GP1_efficiencyx75percent.p\n",
      "GP4_efficiencyx75percent.p\n",
      "no_faults.p\n",
      "GP6_efficiencyx75percent.p\n",
      "GP2_efficiencyx75percent.p\n",
      "GP5_efficiencyx75percent.p\n"
     ]
    }
   ],
   "source": [
    "# Get list of pickle files\n",
    "all_filenames = os.listdir('../Data/MolecularFoundryPickleFiles_4-cleaned-units-converted-engfeatures-lagstdv/')\n",
    "filenames = []\n",
    "for filename in all_filenames:\n",
    "    if '.p' in filename:\n",
    "        filenames.append(filename)\n",
    "        print(filename)\n",
    "del all_filenames"
   ]
  },
  {
   "cell_type": "code",
   "execution_count": 22,
   "metadata": {
    "collapsed": false
   },
   "outputs": [],
   "source": [
    "num_folds = 12 # 12 months\n",
    "# Concatenate the labels and time weights\n",
    "length_of_one_fold = int(np.floor(len(aaa.index)/(num_folds)))\n",
    "# Find the boundaries of the folds\n",
    "fold_boundaries = []\n",
    "for fold_i in range(0, num_folds): #subtract one because the last one is an unequal number\n",
    "    fold_boundaries.append(length_of_one_fold*fold_i)\n",
    "fold_boundaries.append(len(aaa.index))"
   ]
  },
  {
   "cell_type": "code",
   "execution_count": 23,
   "metadata": {
    "collapsed": false
   },
   "outputs": [
    {
     "name": "stdout",
     "output_type": "stream",
     "text": [
      "Fold 0: 0\n",
      "Fold 1: 8759\n",
      "Fold 2: 17518\n",
      "Fold 3: 26277\n",
      "Fold 4: 35036\n",
      "Fold 5: 43795\n",
      "Fold 6: 52554\n",
      "Fold 7: 61313\n",
      "Fold 8: 70072\n",
      "Fold 9: 78831\n",
      "Fold 10: 87590\n",
      "Fold 11: 96349\n",
      "Fold 12: 105109\n"
     ]
    }
   ],
   "source": [
    "for fold_i in range(0, len(fold_boundaries)):\n",
    "    print('Fold %d: %d' % (fold_i, fold_boundaries[fold_i]))"
   ]
  },
  {
   "cell_type": "code",
   "execution_count": null,
   "metadata": {
    "collapsed": true
   },
   "outputs": [],
   "source": [
    "timeweights = pd.read_pickle('timeweights.p')\n",
    "#for fold_i in range(0, len(fold_boundaries)-2):\n",
    "for fold_i in range(0, 7):\n",
    "    training_end_index = fold_boundaries[fold_i+1]\n",
    "    testing_start_index = fold_boundaries[fold_i+1]\n",
    "    testing_end_index = fold_boundaries[fold_i+2]\n",
    "    \n",
    "    print('Fold %d to %d' % (fold_i, training_end_index))\n",
    "    \n",
    "    training_data = pd.DataFrame()\n",
    "    testing_data = pd.DataFrame()\n",
    "    \n",
    "    for filename in filenames:\n",
    "\n",
    "        #print('traing to %d' %training_end_index)\n",
    "        #print('%d to %d' % (testing_start_index, testing_end_index))\n",
    "\n",
    "        # Load all X Data\n",
    "        print('Loading %s' % filename)\n",
    "        filepath = os.path.join('../Data/MolecularFoundryPickleFiles_4-cleaned-units-converted-engfeatures-lagstdv', filename)\n",
    "        df = pd.read_pickle(filepath)\n",
    "\n",
    "        # Load all Y Data\n",
    "        filename = os.path.splitext(filename)[0] + '-label.p'\n",
    "        print('Loading %s' % filename)\n",
    "        filepath = os.path.join('../Data/MolecularFoundryPickleFiles_4-cleaned-units-converted-engfeatures-lagstdv/labels/', filename)\n",
    "        labels = pd.read_pickle(filepath)\n",
    "\n",
    "        # Get the fold\n",
    "        temp_train = df.iloc[0:training_end_index, :].copy()\n",
    "        temp_train['__label__'] = labels[temp_train.index]\n",
    "\n",
    "        # Time weight\n",
    "        temp_train['__weight__'] = timeweights[temp_train.index+(df.index.max() - temp_train.index.max())].values # Make 1 month old data weights as 1 month old, regardless of when the month is\n",
    "\n",
    "\n",
    "        temp_test = df.iloc[testing_start_index:testing_end_index, :].copy()\n",
    "        temp_test['__label__'] = labels[temp_test.index]\n",
    "        \n",
    "        del df\n",
    "\n",
    "        training_data = training_data.append(temp_train)\n",
    "        testing_data = testing_data.append(temp_test)\n",
    "        del temp_train\n",
    "        del temp_test\n",
    "\n",
    "    weighByClass(training_data)  \n",
    "    training_data.to_pickle('../Data/MolecularFoundryPickleFiles_5-cleaned-units-engfeatures-lagstdv-cv/training_data_cv' + str(fold_i+1) + '.p')\n",
    "    del training_data\n",
    "    testing_data.to_pickle('../Data/MolecularFoundryPickleFiles_5-cleaned-units-engfeatures-lagstdv-cv/testing_data_cv' + str(fold_i+1)+ '.p')\n",
    "    del testing_data"
   ]
  },
  {
   "cell_type": "markdown",
   "metadata": {},
   "source": [
    "# Calculate Mean and Std"
   ]
  },
  {
   "cell_type": "code",
   "execution_count": 13,
   "metadata": {
    "collapsed": true
   },
   "outputs": [],
   "source": [
    "aaa = pd.read_pickle('../Data/MolecularFoundryPickleFiles_5-cleaned-units-engfeatures-lagstdv-cv/training_data_cv11.p')\n",
    "stds = aaa.std()\n",
    "means = aaa.mean()\n",
    "stds = stds.drop(['__label__', '__weight__'])\n",
    "stds.to_pickle('../Data/MolecularFoundryPickleFiles_5-cleaned-units-engfeatures-lagstdv-cv/stds.p')\n",
    "means = means.drop(['__label__', '__weight__'])\n",
    "means.to_pickle('../Data/MolecularFoundryPickleFiles_5-cleaned-units-engfeatures-lagstdv-cv/means.p')"
   ]
  },
  {
   "cell_type": "markdown",
   "metadata": {},
   "source": [
    "# Whiten the data"
   ]
  },
  {
   "cell_type": "code",
   "execution_count": 15,
   "metadata": {
    "collapsed": false
   },
   "outputs": [
    {
     "name": "stdout",
     "output_type": "stream",
     "text": [
      "training_data_cv10.p\n",
      "testing_data_cv10.p\n",
      "training_data_cv11.p\n",
      "testing_data_cv11.p\n",
      "training_data_cv8.p\n",
      "testing_data_cv8.p\n"
     ]
    }
   ],
   "source": [
    "# Get list of pickle files\n",
    "all_filenames = os.listdir('../Data/MolecularFoundryPickleFiles_5-cleaned-units-engfeatures-lagstdv-cv')\n",
    "filenames = []\n",
    "for filename in all_filenames:\n",
    "    if ('.p' in filename) and ('data' in filename):\n",
    "        filenames.append(filename)\n",
    "        print(filename)\n",
    "del all_filenames"
   ]
  },
  {
   "cell_type": "code",
   "execution_count": 19,
   "metadata": {
    "collapsed": false
   },
   "outputs": [],
   "source": [
    "stds = pd.read_pickle('../Data/MolecularFoundryPickleFiles_5-cleaned-units-engfeatures-lagstdv-cv/stds.p')\n",
    "means = pd.read_pickle('../Data/MolecularFoundryPickleFiles_5-cleaned-units-engfeatures-lagstdv-cv/means.p')\n",
    "zerostd_var = stds[stds==0].index.values\n",
    "means = means.drop(zerostd_var)\n",
    "stds = stds.drop(zerostd_var)\n",
    "means = means.drop(stds[stds==0].index.values)"
   ]
  },
  {
   "cell_type": "code",
   "execution_count": 20,
   "metadata": {
    "collapsed": false
   },
   "outputs": [
    {
     "name": "stdout",
     "output_type": "stream",
     "text": [
      "Running training_data_cv10.p \n",
      "Done training_data_cv10.p \n",
      "Running testing_data_cv10.p \n",
      "Done testing_data_cv10.p \n",
      "Running training_data_cv11.p \n",
      "Done training_data_cv11.p \n",
      "Running testing_data_cv11.p \n",
      "Done testing_data_cv11.p \n",
      "Running training_data_cv8.p \n",
      "Done training_data_cv8.p \n",
      "Running testing_data_cv8.p \n",
      "Done testing_data_cv8.p \n"
     ]
    }
   ],
   "source": [
    "for filename in filenames:\n",
    "    print('Running %s ' % filename)\n",
    "    # Remove zero variance features\n",
    "    filepath_read = os.path.join('../Data/MolecularFoundryPickleFiles_5-cleaned-units-engfeatures-lagstdv-cv', filename)\n",
    "    df = pd.read_pickle(filepath_read)\n",
    "    df = df.drop(zerostd_var, 1)\n",
    "    \n",
    "    # Subtract the mean\n",
    "    for feature_i in means.index:\n",
    "        df.loc[:, feature_i] = (df.loc[:, feature_i] - means[feature_i])\n",
    "\n",
    "    # Divide by the standard deviation\n",
    "    for feature_i in stds.index:\n",
    "        df.loc[:, feature_i] = (df.loc[:, feature_i])  / stds[feature_i]\n",
    "    \n",
    "    # Save the pickle file\n",
    "    filepath_write = os.path.join('../Data/MolecularFoundryPickleFiles_6-cleaned-units-engfeatures-lagstdv-cv-nonzerovar', filename)\n",
    "    df.to_pickle(filepath_write)\n",
    "    print('Done %s ' % filename)"
   ]
  }
 ],
 "metadata": {
  "kernelspec": {
   "display_name": "Python 3",
   "language": "python",
   "name": "python3"
  },
  "language_info": {
   "codemirror_mode": {
    "name": "ipython",
    "version": 3
   },
   "file_extension": ".py",
   "mimetype": "text/x-python",
   "name": "python",
   "nbconvert_exporter": "python",
   "pygments_lexer": "ipython3",
   "version": "3.5.1"
  },
  "nav_menu": {},
  "toc": {
   "navigate_menu": true,
   "number_sections": true,
   "sideBar": true,
   "threshold": 6,
   "toc_cell": false,
   "toc_section_display": "block",
   "toc_window_display": false
  }
 },
 "nbformat": 4,
 "nbformat_minor": 0
}
